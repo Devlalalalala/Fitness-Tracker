{
 "cells": [
  {
   "cell_type": "code",
   "execution_count": 3,
   "id": "17973c3e-88a4-4e50-81b2-afa7b55f2a8f",
   "metadata": {},
   "outputs": [
    {
     "name": "stdin",
     "output_type": "stream",
     "text": [
      "Enter your name:  dev \n",
      "Enter your age:  21\n",
      "Enter the maximum number of exercises you plan to add:  5\n"
     ]
    },
    {
     "name": "stdout",
     "output_type": "stream",
     "text": [
      "\n",
      "1. Add Steps\n",
      "2. View Stats\n",
      "3. Add Exercise\n",
      "4. Exit\n"
     ]
    },
    {
     "name": "stdin",
     "output_type": "stream",
     "text": [
      "Choose an option:  1\n",
      "Enter number of steps:  12345\n"
     ]
    },
    {
     "name": "stdout",
     "output_type": "stream",
     "text": [
      "Steps added successfully.\n",
      "\n",
      "1. Add Steps\n",
      "2. View Stats\n",
      "3. Add Exercise\n",
      "4. Exit\n"
     ]
    },
    {
     "name": "stdin",
     "output_type": "stream",
     "text": [
      "Choose an option:  2\n"
     ]
    },
    {
     "name": "stdout",
     "output_type": "stream",
     "text": [
      "User(name='dev ', age=21, steps=12345, distance=9.63 km, exercises=[])\n",
      "\n",
      "1. Add Steps\n",
      "2. View Stats\n",
      "3. Add Exercise\n",
      "4. Exit\n"
     ]
    },
    {
     "name": "stdin",
     "output_type": "stream",
     "text": [
      "Choose an option:  3\n",
      "Enter number of exercises:  bench Press\n"
     ]
    },
    {
     "name": "stdout",
     "output_type": "stream",
     "text": [
      "Please enter a valid number.\n",
      "\n",
      "1. Add Steps\n",
      "2. View Stats\n",
      "3. Add Exercise\n",
      "4. Exit\n"
     ]
    },
    {
     "name": "stdin",
     "output_type": "stream",
     "text": [
      "Choose an option:  2\n"
     ]
    },
    {
     "name": "stdout",
     "output_type": "stream",
     "text": [
      "User(name='dev ', age=21, steps=12345, distance=9.63 km, exercises=[])\n",
      "\n",
      "1. Add Steps\n",
      "2. View Stats\n",
      "3. Add Exercise\n",
      "4. Exit\n"
     ]
    },
    {
     "name": "stdin",
     "output_type": "stream",
     "text": [
      "Choose an option:  3\n",
      "Enter number of exercises:  2\n",
      "Enter exercise 1:  Bench Press\n",
      "Enter exercise 2:  cable flies\n"
     ]
    },
    {
     "name": "stdout",
     "output_type": "stream",
     "text": [
      "Exercises added successfully.\n",
      "\n",
      "1. Add Steps\n",
      "2. View Stats\n",
      "3. Add Exercise\n",
      "4. Exit\n"
     ]
    },
    {
     "name": "stdin",
     "output_type": "stream",
     "text": [
      "Choose an option:  2\n"
     ]
    },
    {
     "name": "stdout",
     "output_type": "stream",
     "text": [
      "User(name='dev ', age=21, steps=12345, distance=9.63 km, exercises=['Bench Press', 'cable flies'])\n",
      "\n",
      "1. Add Steps\n",
      "2. View Stats\n",
      "3. Add Exercise\n",
      "4. Exit\n"
     ]
    },
    {
     "name": "stdin",
     "output_type": "stream",
     "text": [
      "Choose an option:  41\n"
     ]
    },
    {
     "name": "stdout",
     "output_type": "stream",
     "text": [
      "Invalid choice. Please try again.\n",
      "\n",
      "1. Add Steps\n",
      "2. View Stats\n",
      "3. Add Exercise\n",
      "4. Exit\n"
     ]
    },
    {
     "name": "stdin",
     "output_type": "stream",
     "text": [
      "Choose an option:  4\n"
     ]
    },
    {
     "name": "stdout",
     "output_type": "stream",
     "text": [
      "Exiting...\n"
     ]
    }
   ],
   "source": [
    "class User:\n",
    "    def __init__(self, name, age, max_exercises):\n",
    "        self.name = name\n",
    "        self.age = age\n",
    "        self.steps = 0\n",
    "        self.distance = 0.0\n",
    "        self.exercises = []\n",
    "        self.max_exercises = max_exercises\n",
    "\n",
    "    def add_exercise(self, exercise):\n",
    "        if len(self.exercises) < self.max_exercises:\n",
    "            self.exercises.append(exercise)\n",
    "        else:\n",
    "            print(\"Exercise list is full.\")\n",
    "\n",
    "    def add_steps(self, steps):\n",
    "        self.steps += steps\n",
    "        self.update_distance()\n",
    "\n",
    "    def update_distance(self):\n",
    "        # Assume 1 step equals 0.78 meters, converted to kilometers.\n",
    "        self.distance = self.steps * 0.00078\n",
    "\n",
    "    def __str__(self):\n",
    "        return (f\"User(name='{self.name}', age={self.age}, steps={self.steps}, \"\n",
    "                f\"distance={self.distance:.2f} km, exercises={self.exercises})\")\n",
    "\n",
    "\n",
    "class FitnessTracker:\n",
    "    def __init__(self):\n",
    "        self.user = self.initialize_user()\n",
    "\n",
    "    def initialize_user(self):\n",
    "        name = input(\"Enter your name: \")\n",
    "        age = int(input(\"Enter your age: \"))\n",
    "        max_exercises = int(input(\"Enter the maximum number of exercises you plan to add: \"))\n",
    "        return User(name, age, max_exercises)\n",
    "\n",
    "    def start_tracking(self):\n",
    "        while True:\n",
    "            print(\"\\n1. Add Steps\")\n",
    "            print(\"2. View Stats\")\n",
    "            print(\"3. Add Exercise\")\n",
    "            print(\"4. Exit\")\n",
    "            try:\n",
    "                choice = int(input(\"Choose an option: \"))\n",
    "\n",
    "                if choice == 1:\n",
    "                    self.add_steps()\n",
    "                elif choice == 2:\n",
    "                    self.view_stats()\n",
    "                elif choice == 3:\n",
    "                    self.add_exercise()\n",
    "                elif choice == 4:\n",
    "                    print(\"Exiting...\")\n",
    "                    break\n",
    "                else:\n",
    "                    print(\"Invalid choice. Please try again.\")\n",
    "            except ValueError:\n",
    "                print(\"Please enter a valid number.\")\n",
    "\n",
    "    def add_steps(self):\n",
    "        try:\n",
    "            steps = int(input(\"Enter number of steps: \"))\n",
    "            self.user.add_steps(steps)\n",
    "            print(\"Steps added successfully.\")\n",
    "        except ValueError:\n",
    "            print(\"Please enter a valid number.\")\n",
    "\n",
    "    def view_stats(self):\n",
    "        print(self.user)\n",
    "\n",
    "    def add_exercise(self):\n",
    "        try:\n",
    "            count = int(input(\"Enter number of exercises: \"))\n",
    "            for i in range(count):\n",
    "                exercise = input(f\"Enter exercise {i + 1}: \")\n",
    "                self.user.add_exercise(exercise)\n",
    "            print(\"Exercises added successfully.\")\n",
    "        except ValueError:\n",
    "            print(\"Please enter a valid number.\")\n",
    "\n",
    "\n",
    "if __name__ == \"__main__\":\n",
    "    tracker = FitnessTracker()\n",
    "    tracker.start_tracking()\n"
   ]
  }
 ],
 "metadata": {
  "kernelspec": {
   "display_name": "Python 3 (ipykernel)",
   "language": "python",
   "name": "python3"
  },
  "language_info": {
   "codemirror_mode": {
    "name": "ipython",
    "version": 3
   },
   "file_extension": ".py",
   "mimetype": "text/x-python",
   "name": "python",
   "nbconvert_exporter": "python",
   "pygments_lexer": "ipython3",
   "version": "3.12.4"
  }
 },
 "nbformat": 4,
 "nbformat_minor": 5
}
